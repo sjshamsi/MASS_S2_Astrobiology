{
 "cells": [
  {
   "cell_type": "code",
   "execution_count": 1,
   "id": "74f70562-9d19-4493-a453-ac0b6a27e8ef",
   "metadata": {},
   "outputs": [],
   "source": [
    "import pandas as pd\n",
    "import torch\n",
    "import torch.nn as nn\n",
    "import math\n",
    "import numpy as np\n",
    "from sklearn.preprocessing import MinMaxScaler\n",
    "from sklearn.model_selection import train_test_split\n",
    "from sklearn.metrics import confusion_matrix\n",
    "from sklearn import metrics\n",
    "import matplotlib.pyplot as plt\n",
    "import seaborn as sns"
   ]
  },
  {
   "cell_type": "code",
   "execution_count": 2,
   "id": "2527f75b-7d81-4ea6-a4c5-09ae727b927f",
   "metadata": {},
   "outputs": [],
   "source": [
    "class MultiHeadAttention(nn.Module):\n",
    "    def __init__(self, d_model, num_heads):\n",
    "        super(MultiHeadAttention, self).__init__()\n",
    "        assert d_model % num_heads == 0, \"d_model must be divisible by num_heads\"\n",
    "\n",
    "        self.d_model = d_model\n",
    "        self.num_heads = num_heads\n",
    "        self.d_k = d_model // num_heads\n",
    "\n",
    "        self.W_q = nn.Linear(d_model, d_model)\n",
    "        self.W_k = nn.Linear(d_model, d_model)\n",
    "        self.W_v = nn.Linear(d_model, d_model)\n",
    "        self.W_o = nn.Linear(d_model, d_model)\n",
    "\n",
    "    def scaled_dot_product_attention(self, Q, K, V, mask=None):\n",
    "        attn_scores = torch.matmul(Q, K.transpose(-2, -1)) / math.sqrt(self.d_k)\n",
    "        if mask is not None:\n",
    "            attn_scores = attn_scores.masked_fill(mask == 0, -1e9)\n",
    "        attn_probs = torch.softmax(attn_scores, dim=-1)\n",
    "        output = torch.matmul(attn_probs, V)\n",
    "        return output\n",
    "\n",
    "    def split_heads(self, x):\n",
    "        batch_size, seq_length, d_model = x.size()\n",
    "        return x.view(batch_size, seq_length, self.num_heads, self.d_k).transpose(1, 2)\n",
    "\n",
    "    def combine_heads(self, x):\n",
    "        batch_size, _, seq_length, d_k = x.size()\n",
    "        return x.transpose(1, 2).contiguous().view(batch_size, seq_length, self.d_model)\n",
    "\n",
    "    def forward(self, Q, K, V, mask=None):\n",
    "        Q = self.split_heads(self.W_q(Q))\n",
    "        K = self.split_heads(self.W_k(K))\n",
    "        V = self.split_heads(self.W_v(V))\n",
    "\n",
    "        attn_output = self.scaled_dot_product_attention(Q, K, V, mask)\n",
    "        output = self.W_o(self.combine_heads(attn_output))\n",
    "        return output"
   ]
  },
  {
   "cell_type": "code",
   "execution_count": 3,
   "id": "3e82c574-061e-4274-a666-2508fd04756b",
   "metadata": {},
   "outputs": [],
   "source": [
    "class PositionWiseFeedForward(nn.Module):\n",
    "    def __init__(self, d_model, d_ff):\n",
    "        super(PositionWiseFeedForward, self).__init__()\n",
    "        self.fc1 = nn.Linear(d_model, d_ff)\n",
    "        self.fc2 = nn.Linear(d_ff, d_model)\n",
    "        self.relu = nn.ReLU()\n",
    "\n",
    "    def forward(self, x):\n",
    "        return self.fc2(self.relu(self.fc1(x)))\n",
    "\n",
    "\n",
    "class PositionalEncoding(nn.Module):\n",
    "    def __init__(self, d_model, max_seq_length):\n",
    "        super(PositionalEncoding, self).__init__()\n",
    "\n",
    "        pe = torch.zeros(max_seq_length, d_model)\n",
    "        position = torch.arange(0, max_seq_length, dtype=torch.float).unsqueeze(1)\n",
    "        div_term = torch.exp(torch.arange(0, d_model, 2).float() * -(math.log(10000.0) / d_model))\n",
    "\n",
    "        pe[:, 0::2] = torch.sin(position * div_term)\n",
    "        pe[:, 1::2] = torch.cos(position * div_term)\n",
    "        self.register_buffer('pe', pe.unsqueeze(0))\n",
    "\n",
    "    def forward(self, x):\n",
    "        return x + self.pe[:, :x.size(1)]"
   ]
  },
  {
   "cell_type": "code",
   "execution_count": 4,
   "id": "0328722e-1d36-456a-a03d-c5cfe31c2cb1",
   "metadata": {},
   "outputs": [],
   "source": [
    "class EncoderLayer(nn.Module):\n",
    "    def __init__(self, d_model, num_heads, d_ff, dropout):\n",
    "        super(EncoderLayer, self).__init__()\n",
    "        self.self_attn = MultiHeadAttention(d_model, num_heads)\n",
    "        self.feed_forward = PositionWiseFeedForward(d_model, d_ff)\n",
    "        self.norm1 = nn.LayerNorm(d_model)\n",
    "        self.norm2 = nn.LayerNorm(d_model)\n",
    "        self.dropout = nn.Dropout(dropout)\n",
    "\n",
    "    def forward(self, x, mask):\n",
    "        attn_output = self.self_attn(x, x, x, mask)\n",
    "        x = self.norm1(x + self.dropout(attn_output))\n",
    "        ff_output = self.feed_forward(x)\n",
    "        x = self.norm2(x + self.dropout(ff_output))\n",
    "        return x"
   ]
  },
  {
   "cell_type": "code",
   "execution_count": 5,
   "id": "efe59266-0e43-4b52-be7b-16243077801d",
   "metadata": {},
   "outputs": [],
   "source": [
    "class DecoderLayer(nn.Module):\n",
    "    def __init__(self, d_model, num_heads, d_ff, dropout):\n",
    "        super(DecoderLayer, self).__init__()\n",
    "        self.self_attn = MultiHeadAttention(d_model, num_heads)\n",
    "        self.cross_attn = MultiHeadAttention(d_model, num_heads)\n",
    "        self.feed_forward = PositionWiseFeedForward(d_model, d_ff)\n",
    "        self.norm1 = nn.LayerNorm(d_model)\n",
    "        self.norm2 = nn.LayerNorm(d_model)\n",
    "        self.norm3 = nn.LayerNorm(d_model)\n",
    "        self.dropout = nn.Dropout(dropout)\n",
    "\n",
    "    def forward(self, x, enc_output, src_mask, tgt_mask):\n",
    "        attn_output = self.self_attn(x, x, x, tgt_mask)\n",
    "        x = self.norm1(x + self.dropout(attn_output))\n",
    "        attn_output = self.cross_attn(x, enc_output, enc_output, src_mask)\n",
    "        x = self.norm2(x + self.dropout(attn_output))\n",
    "        ff_output = self.feed_forward(x)\n",
    "        x = self.norm3(x + self.dropout(ff_output))\n",
    "        return x"
   ]
  },
  {
   "cell_type": "code",
   "execution_count": 6,
   "id": "c31fabcd-e3e8-496c-99cf-9093a403cc00",
   "metadata": {},
   "outputs": [],
   "source": [
    "class Transformer(nn.Module):\n",
    "    def __init__(self, src_vocab_size, tgt_vocab_size, d_model, num_heads, num_layers, d_ff, max_seq_length, dropout):\n",
    "        super(Transformer, self).__init__()\n",
    "        self.encoder_embedding = nn.Embedding(src_vocab_size, d_model)\n",
    "        self.decoder_embedding = nn.Embedding(tgt_vocab_size, d_model)\n",
    "        self.positional_encoding = PositionalEncoding(d_model, max_seq_length)\n",
    "\n",
    "        self.encoder_layers = nn.ModuleList(\n",
    "            [EncoderLayer(d_model, num_heads, d_ff, dropout) for _ in range(num_layers)])\n",
    "        self.decoder_layers = nn.ModuleList(\n",
    "            [DecoderLayer(d_model, num_heads, d_ff, dropout) for _ in range(num_layers)])\n",
    "\n",
    "        self.fc = nn.Linear(d_model, tgt_vocab_size)\n",
    "        self.dropout = nn.Dropout(dropout)\n",
    "\n",
    "    def generate_mask(self, src, tgt):\n",
    "        src_mask = (src != 0).unsqueeze(1).unsqueeze(2)\n",
    "        tgt_mask = (tgt != 0).unsqueeze(1).unsqueeze(2)\n",
    "        seq_length = tgt.size(-1)\n",
    "        nopeak_mask = (1 - torch.triu(torch.ones(1, 1, seq_length), diagonal=1)).bool()\n",
    "        tgt_mask = tgt_mask & nopeak_mask\n",
    "        return src_mask, tgt_mask\n",
    "\n",
    "    def forward(self, src, tgt):\n",
    "        src_mask, tgt_mask = self.generate_mask(src, tgt)\n",
    "        src_embedded = self.dropout(self.positional_encoding(self.encoder_embedding(src)))\n",
    "        tgt_embedded = self.dropout(self.positional_encoding(self.decoder_embedding(tgt)))\n",
    "        enc_output = src_embedded\n",
    "        for enc_layer in self.encoder_layers:\n",
    "            enc_output = enc_layer(enc_output, src_mask)\n",
    "\n",
    "        dec_output = tgt_embedded\n",
    "        for dec_layer in self.decoder_layers:\n",
    "            dec_output = dec_layer(dec_output, enc_output, src_mask, tgt_mask)\n",
    "\n",
    "        output = self.fc(dec_output)\n",
    "        return output"
   ]
  },
  {
   "cell_type": "code",
   "execution_count": 7,
   "id": "ad2f1677-eb50-4fd4-97ce-909b1699b4a5",
   "metadata": {},
   "outputs": [],
   "source": [
    "df = pd.read_csv('a_catalog.csv')\n",
    "pd.set_option('display.max_columns', None)  # Display all columns\n",
    "pd.set_option('display.expand_frame_repr', False)"
   ]
  },
  {
   "cell_type": "code",
   "execution_count": 8,
   "id": "4a80c8e0-31a4-4d34-b2e6-f304a7c16e7c",
   "metadata": {},
   "outputs": [],
   "source": [
    "df.drop('name_s', axis=1, inplace=True)\n",
    "df.drop('id', axis=1, inplace=True)\n",
    "df.drop('nuniverse', axis=1, inplace=True)"
   ]
  },
  {
   "cell_type": "code",
   "execution_count": 9,
   "id": "1dc04980-933b-45c3-88d2-80fab23345a3",
   "metadata": {},
   "outputs": [],
   "source": [
    "scaler_number = 20000\n",
    "scaler = MinMaxScaler(feature_range=(0, scaler_number))\n",
    "columns_to_scale = [col for col in df.columns if col != 'stype']\n",
    "df[columns_to_scale] = scaler.fit_transform(df[columns_to_scale])"
   ]
  },
  {
   "cell_type": "code",
   "execution_count": 10,
   "id": "7a2875ac-456e-4397-95d4-4cc8c9a42ca3",
   "metadata": {},
   "outputs": [],
   "source": [
    "data = pd.get_dummies(df, columns=['stype']).astype(int)\n",
    "data.reset_index(drop=True, inplace=True)"
   ]
  },
  {
   "cell_type": "code",
   "execution_count": 11,
   "id": "d3b4716c-1f45-4f8c-9f03-f2c48c506c9a",
   "metadata": {},
   "outputs": [],
   "source": [
    "min_max_df = pd.DataFrame({\n",
    "    'Min': data.min(),\n",
    "    'Max': data.max()\n",
    "}).transpose()"
   ]
  },
  {
   "cell_type": "code",
   "execution_count": 12,
   "id": "c7769c67-b4cb-4206-b92b-22dd5a3a38cc",
   "metadata": {},
   "outputs": [],
   "source": [
    "# If you want to preserve the original column order\n",
    "min_max_df = min_max_df[data.columns]\n",
    "# print(min_max_df)"
   ]
  },
  {
   "cell_type": "code",
   "execution_count": 13,
   "id": "5cc94d41-2967-465a-90e8-d66adf812465",
   "metadata": {},
   "outputs": [],
   "source": [
    "flag = np.random.randint(0, 2, size=data.shape[0])"
   ]
  },
  {
   "cell_type": "code",
   "execution_count": 14,
   "id": "02972e1f-aef7-4b7f-aa50-05dde219710e",
   "metadata": {},
   "outputs": [],
   "source": [
    "encoded_data_train, remaining_data_test, flag_train, remaining_flag_test = train_test_split(\n",
    "    data, flag, train_size=0.7, random_state=42)"
   ]
  },
  {
   "cell_type": "code",
   "execution_count": 15,
   "id": "03ff41df-78c6-4bea-8e67-a3afc3fc4480",
   "metadata": {},
   "outputs": [],
   "source": [
    "encoded_data_test, encoded_data_val, flag_test, flag_val = train_test_split(\n",
    "    remaining_data_test, remaining_flag_test, test_size=0.5, random_state=42)"
   ]
  },
  {
   "cell_type": "code",
   "execution_count": 16,
   "id": "5d728828-9e21-4d5a-bb43-5b47588429a0",
   "metadata": {},
   "outputs": [],
   "source": [
    "encoded_data_train = torch.tensor(encoded_data_train.values, dtype=torch.long)\n",
    "flag_train = torch.tensor(flag_train, dtype=torch.long)"
   ]
  },
  {
   "cell_type": "code",
   "execution_count": 17,
   "id": "e8cec12b-2045-472d-82db-20bba4c3e7af",
   "metadata": {},
   "outputs": [],
   "source": [
    "encoded_data_test = torch.tensor(encoded_data_test.values, dtype=torch.long)\n",
    "flag_test = torch.tensor(flag_test, dtype=torch.long)"
   ]
  },
  {
   "cell_type": "code",
   "execution_count": 18,
   "id": "cb7770d3-97cc-4be6-90dd-d5db91338a76",
   "metadata": {},
   "outputs": [],
   "source": [
    "encoded_data_val = torch.tensor(encoded_data_val.values, dtype=torch.long)\n",
    "flag_val = torch.tensor(flag_val, dtype=torch.long)"
   ]
  },
  {
   "cell_type": "code",
   "execution_count": 19,
   "id": "bab79da4-a6fd-4e80-8743-654d50bfc4eb",
   "metadata": {},
   "outputs": [],
   "source": [
    "src_vocab_size = scaler_number + 1\n",
    "tgt_vocab_size = 2\n",
    "d_model = 128\n",
    "num_heads = 1\n",
    "num_layers = 2\n",
    "d_ff = 32\n",
    "max_seq_length = 48\n",
    "dropout = 0.1\n",
    "epoch_num = 30"
   ]
  },
  {
   "cell_type": "code",
   "execution_count": 20,
   "id": "5c4241d9-4f0a-4297-b5e9-92733874ef9a",
   "metadata": {},
   "outputs": [],
   "source": [
    "transformer = Transformer(src_vocab_size, tgt_vocab_size, d_model, num_heads, num_layers, d_ff, max_seq_length, dropout)\n",
    "criterion = nn.BCEWithLogitsLoss()\n",
    "optimizer = torch.optim.Adam(transformer.parameters(), lr=0.0001, betas=(0.9, 0.98), eps=1e-9)"
   ]
  },
  {
   "cell_type": "code",
   "execution_count": 21,
   "id": "2850ff99-138a-4b91-90e1-33381f48a843",
   "metadata": {},
   "outputs": [],
   "source": [
    "train_losses = []\n",
    "val_losses = []\n",
    "test_losses = []"
   ]
  },
  {
   "cell_type": "code",
   "execution_count": null,
   "id": "1c33548e-4907-46d5-accc-4d935b13bba3",
   "metadata": {},
   "outputs": [],
   "source": [
    "transformer.train()\n",
    "for epoch in range(epoch_num):\n",
    "    optimizer.zero_grad()\n",
    "    output = transformer(encoded_data_train, flag_train.unsqueeze(1))\n",
    "    flag_train_dim = torch.cat((1 - flag_train.view(-1, 1), flag_train.view(-1, 1)), dim=1)\n",
    "    loss = criterion(output.contiguous().view(-1, tgt_vocab_size), flag_train_dim.float())\n",
    "    loss.backward()\n",
    "    optimizer.step()\n",
    "    train_losses.append(loss.item())\n",
    "    print(f\"Epoch: {epoch + 1}, Loss: {loss.item()}\")\n",
    "\n",
    "    if (epoch + 1) % 10 == 0:\n",
    "        transformer.eval()\n",
    "        with torch.no_grad():\n",
    "            val_output = transformer(encoded_data_val, flag_val.unsqueeze(1))\n",
    "            val_flag_dim = torch.cat((1 - flag_val.view(-1, 1), flag_val.view(-1, 1)), dim=1)\n",
    "            val_loss = criterion(val_output.contiguous().view(-1, tgt_vocab_size), val_flag_dim.float())\n",
    "            val_losses.append(val_loss.item())\n",
    "            print(f\"Validation Loss: {val_loss.item()}\")\n",
    "\n",
    "        transformer.train()"
   ]
  },
  {
   "cell_type": "code",
   "execution_count": null,
   "id": "8c359714-89c8-4a4d-9519-4dbed2592592",
   "metadata": {},
   "outputs": [],
   "source": [
    "transformer.eval()\n",
    "with torch.no_grad():\n",
    "    test_output = transformer(encoded_data_test, flag_test.unsqueeze(1))\n",
    "    test_flag_dim = torch.cat((1 - flag_test.view(-1, 1), flag_test.view(-1, 1)), dim=1)\n",
    "    test_loss = criterion(test_output.contiguous().view(-1, tgt_vocab_size), test_flag_dim.float())\n",
    "    test_losses.append(test_loss.item())\n",
    "    print(f\"Testing Loss: {test_loss.item()}\")"
   ]
  },
  {
   "cell_type": "code",
   "execution_count": null,
   "id": "7bb34eba-fbc1-46c2-99f4-dc93434b835e",
   "metadata": {},
   "outputs": [],
   "source": []
  }
 ],
 "metadata": {
  "kernelspec": {
   "display_name": "Python 3 (ipykernel)",
   "language": "python",
   "name": "python3"
  },
  "language_info": {
   "codemirror_mode": {
    "name": "ipython",
    "version": 3
   },
   "file_extension": ".py",
   "mimetype": "text/x-python",
   "name": "python",
   "nbconvert_exporter": "python",
   "pygments_lexer": "ipython3",
   "version": "3.12.3"
  }
 },
 "nbformat": 4,
 "nbformat_minor": 5
}
